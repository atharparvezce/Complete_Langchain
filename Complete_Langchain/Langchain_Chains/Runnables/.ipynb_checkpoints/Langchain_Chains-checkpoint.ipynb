{
 "cells": [
  {
   "cell_type": "markdown",
   "id": "71423c45-d367-4cb2-9157-795f4ce3f695",
   "metadata": {},
   "source": [
    "# ✅ **LangChain Chain**\n",
    "\n",
    "In **LangChain**, a **Chain** is a pipeline that connects multiple components (like LLMs, prompts, tools, or memory) in a specific order to accomplish a complex task.\n",
    "\n",
    "Chains allow you to **combine multiple steps**—for example, generating a response, summarizing it, and storing it—into a **single workflow**.\n",
    "\n",
    "---\n",
    "\n",
    "# Types of Chains in LangChain\n",
    "\n",
    "---\n",
    "| Chain Type      | Flow                     | Use Case                           |\n",
    "| --------------- | ------------------------ | ---------------------------------- |\n",
    "| **Sequential**  | Step → Step → Step       | Multi-step reasoning               |\n",
    "| **Parallel**    | Run Steps Simultaneously | Multi-language output, comparisons |\n",
    "| **Conditional** | If → Then → Else         | Route questions to right handler   |\n",
    "\n",
    "---\n",
    "\n"
   ]
  }
 ],
 "metadata": {
  "kernelspec": {
   "display_name": "Python 3 (ipykernel)",
   "language": "python",
   "name": "python3"
  },
  "language_info": {
   "codemirror_mode": {
    "name": "ipython",
    "version": 3
   },
   "file_extension": ".py",
   "mimetype": "text/x-python",
   "name": "python",
   "nbconvert_exporter": "python",
   "pygments_lexer": "ipython3",
   "version": "3.12.7"
  }
 },
 "nbformat": 4,
 "nbformat_minor": 5
}
