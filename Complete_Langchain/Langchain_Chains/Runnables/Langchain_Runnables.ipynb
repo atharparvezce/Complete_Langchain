{
 "cells": [
  {
   "cell_type": "markdown",
   "id": "17d04a63-e7ba-4b1d-a63d-0dda6e8cf18c",
   "metadata": {},
   "source": [
    "# ✅ **What is Runnables**\n",
    "\n",
    "---\n",
    "\n",
    "**Runnables** are the core execution units in LangChain.  \n",
    "They standardize how different components (like LLMs, retrievers, and prompts) are chained and executed.\n",
    "\n",
    "**Purpose**:  \n",
    "They allow you to build **pipelines** that can be invoked, streamed, or batched with consistent interfaces.\n",
    "\n",
    "---\n",
    "\n",
    "# Types of Runnables \n",
    "\n",
    "---\n",
    "\n",
    "## Task Specific Runnables\n",
    "\n",
    "- **Definition**: Core LangChain components that have been converted into **Runnables**, enabling their use in pipelines.\n",
    "- **Purpose**: Perform **task-specific** operations like LLM calls, prompting, retrieval, etc.\n",
    "- **Examples**:\n",
    "  - `ChatOpenAI` → Runs an LLM model  \n",
    "  - `PromptTemplate` → Formats prompts dynamically  \n",
    "  - `Retriever` → Retrieves relevant documents\n",
    "\n",
    "---\n",
    "\n",
    "## Runnable Primitives\n",
    "\n",
    "- **Definition**: **Fundamental building blocks** for structuring execution logic.\n",
    "- **Purpose**: Orchestrate how components are executed (sequentially, in parallel, conditionally, etc.)\n",
    "- **Examples**:\n",
    "  - `RunnableSequence` → Runs steps in **order** (`|` operator)  \n",
    "  - `RunnableParallel` → Runs multiple steps **simultaneously**  \n",
    "  - `RunnableMap` → Maps input across multiple functions  \n",
    "  - `RunnableBranch` → Implements **conditional execution** (if-else)  \n",
    "  - `RunnableLambda` → Wraps **custom Python functions**  \n",
    "  - `RunnablePassthrough` → Forwards input as output (acts as a placeholder)\n",
    "\n",
    "\n",
    "---\n"
   ]
  }
 ],
 "metadata": {
  "kernelspec": {
   "display_name": "Python 3 (ipykernel)",
   "language": "python",
   "name": "python3"
  },
  "language_info": {
   "codemirror_mode": {
    "name": "ipython",
    "version": 3
   },
   "file_extension": ".py",
   "mimetype": "text/x-python",
   "name": "python",
   "nbconvert_exporter": "python",
   "pygments_lexer": "ipython3",
   "version": "3.12.7"
  }
 },
 "nbformat": 4,
 "nbformat_minor": 5
}
