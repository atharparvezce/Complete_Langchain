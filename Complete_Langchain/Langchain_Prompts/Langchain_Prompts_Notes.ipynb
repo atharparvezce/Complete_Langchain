{
 "cells": [
  {
   "cell_type": "markdown",
   "id": "7c7f3bc5-24d2-4c99-a704-bb08873f9307",
   "metadata": {},
   "source": [
    "# ✅ **What is a LangChain Prompt**\n",
    "A **prompt** is the input/instruction given to a language model (like GPT) to get a desired response.\n",
    "\n",
    "In **LangChain**, prompts are tools that help structure and format inputs to the LLM effectively.\n",
    "\n",
    "---\n",
    "\n",
    "# Types of Prompts in LangChain\n",
    "\n",
    "## 1. Static Prompt\n",
    "\n",
    "- A **fixed** prompt with hardcoded text.\n",
    "- The same prompt is used every time.\n",
    "- Simple and easy to use.\n",
    "\n",
    "**Example:**\n",
    "\n",
    "prompt = \"Tell me a joke about cats.\"\n",
    "\n",
    "---\n",
    "\n",
    "## 2. Dynamic Prompt\n",
    "Uses variables/placeholders filled at runtime.\n",
    "Makes prompts flexible and reusable.\n",
    "Ideal for user input or templated prompts.\n",
    "\n",
    "**Example:**\n",
    "\n",
    "from langchain.prompts import PromptTemplate\n",
    "\n",
    "template = \"Tell me a **{adjective}** joke about **{animal}**.\"\n",
    "\n",
    "prompt = PromptTemplate(input_variables=[\"adjective\", \"animal\"], template=template)\n",
    "\n",
    "**Filling the prompt:**\n",
    "\n",
    "prompt.format(adjective=\"funny\", animal=\"cat\")\n",
    "\n",
    "---"
   ]
  }
 ],
 "metadata": {
  "kernelspec": {
   "display_name": "Python 3 (ipykernel)",
   "language": "python",
   "name": "python3"
  },
  "language_info": {
   "codemirror_mode": {
    "name": "ipython",
    "version": 3
   },
   "file_extension": ".py",
   "mimetype": "text/x-python",
   "name": "python",
   "nbconvert_exporter": "python",
   "pygments_lexer": "ipython3",
   "version": "3.12.7"
  }
 },
 "nbformat": 4,
 "nbformat_minor": 5
}
